{
 "cells": [
  {
   "cell_type": "markdown",
   "metadata": {},
   "source": [
    "# Analyze Language and Sentiment of The Picture of Dorian Gray"
   ]
  },
  {
   "cell_type": "code",
   "execution_count": 6,
   "metadata": {},
   "outputs": [
    {
     "data": {
      "text/plain": [
       "['dorian_gray.txt',\n",
       " 'README.md',\n",
       " 'UNdata.xlsx',\n",
       " 'The_Language_of_Dorian_Gray.ipynb',\n",
       " '.ipynb_checkpoints',\n",
       " '.git',\n",
       " 'mini_project_V.ipynb']"
      ]
     },
     "execution_count": 6,
     "metadata": {},
     "output_type": "execute_result"
    }
   ],
   "source": [
    "import os\n",
    "from os import listdir\n",
    "os.listdir()"
   ]
  },
  {
   "cell_type": "markdown",
   "metadata": {},
   "source": [
    "1. Load text\n",
    "2. Preprocess\n",
    "* Tokenize\n",
    "* Remove stop words\n",
    "3"
   ]
  },
  {
   "cell_type": "code",
   "execution_count": 11,
   "metadata": {},
   "outputs": [],
   "source": [
    "import bs4 as bs\n",
    "import urllib.request\n",
    "import re\n",
    "import nltk"
   ]
  },
  {
   "cell_type": "code",
   "execution_count": 12,
   "metadata": {},
   "outputs": [],
   "source": [
    "filename='dorian_gray.txt'\n",
    "file = open(filename,'rt')\n",
    "text = file.read()\n",
    "file.close()"
   ]
  },
  {
   "cell_type": "code",
   "execution_count": 16,
   "metadata": {},
   "outputs": [],
   "source": [
    "#Parse novel\n",
    "parsed_novel = bs.BeautifulSoup(text, 'lxml')\n",
    "\n",
    "paragraphs = parsed_novel.find_all('p')\n",
    "\n",
    "#Join all paragraphs together in variable\n",
    "novel_text =''\n",
    "\n",
    "for p in paragraphs:\n",
    "    novel_text += p.text"
   ]
  },
  {
   "cell_type": "code",
   "execution_count": 19,
   "metadata": {},
   "outputs": [],
   "source": [
    "#Cleaning text\n",
    "processed_novel= novel_text.lower()\n",
    "processed_novel = re.sub('[^a-zA-Z]', ' ', processed_novel)\n",
    "processed_novel = re.sub(r'\\s+',' ',processed_novel)\n",
    "\n",
    "#preparing the dataset\n",
    "all_sentences = nltk.sent_tokenize(processed_novel)\n",
    "all_words = [nltk.word_tokenize(sent) for sent in all_sentences]\n",
    "\n",
    "#remove stop words\n",
    "from nltk.corpus import stopwords\n",
    "for i in range(len(all_words)):\n",
    "    all_words[i] = [w for w in all_words[i] if w not in stopwords.words('english')]"
   ]
  },
  {
   "cell_type": "code",
   "execution_count": 54,
   "metadata": {},
   "outputs": [],
   "source": [
    "from gensim.models import Word2Vec\n",
    "\n",
    "word2vec = Word2Vec(all_words, min_count = 10)"
   ]
  },
  {
   "cell_type": "code",
   "execution_count": 55,
   "metadata": {
    "collapsed": true,
    "jupyter": {
     "outputs_hidden": true
    }
   },
   "outputs": [
    {
     "name": "stdout",
     "output_type": "stream",
     "text": [
      "{'artist': <gensim.models.keyedvectors.Vocab object at 0x7fc87f646850>, 'beautiful': <gensim.models.keyedvectors.Vocab object at 0x7fc87f646d60>, 'things': <gensim.models.keyedvectors.Vocab object at 0x7fc87f646f70>, 'art': <gensim.models.keyedvectors.Vocab object at 0x7fc87f6467f0>, 'another': <gensim.models.keyedvectors.Vocab object at 0x7fc87f646970>, 'manner': <gensim.models.keyedvectors.Vocab object at 0x7fc87f646d00>, 'new': <gensim.models.keyedvectors.Vocab object at 0x7fc87f646c70>, 'form': <gensim.models.keyedvectors.Vocab object at 0x7fc87f646eb0>, 'mode': <gensim.models.keyedvectors.Vocab object at 0x7fc87f646fd0>, 'find': <gensim.models.keyedvectors.Vocab object at 0x7fc87f674f70>, 'without': <gensim.models.keyedvectors.Vocab object at 0x7fc87f674250>, 'charming': <gensim.models.keyedvectors.Vocab object at 0x7fc87f674310>, 'hope': <gensim.models.keyedvectors.Vocab object at 0x7fc87f6743a0>, 'mean': <gensim.models.keyedvectors.Vocab object at 0x7fc87f674fd0>, 'beauty': <gensim.models.keyedvectors.Vocab object at 0x7fc87f674f10>, 'thing': <gensim.models.keyedvectors.Vocab object at 0x7fc87f674eb0>, 'book': <gensim.models.keyedvectors.Vocab object at 0x7fc87f674e50>, 'well': <gensim.models.keyedvectors.Vocab object at 0x7fc87f674df0>, 'written': <gensim.models.keyedvectors.Vocab object at 0x7fc87f674d90>, 'century': <gensim.models.keyedvectors.Vocab object at 0x7fc87f674d30>, 'face': <gensim.models.keyedvectors.Vocab object at 0x7fc87f674cd0>, 'glass': <gensim.models.keyedvectors.Vocab object at 0x7fc87f674670>, 'life': <gensim.models.keyedvectors.Vocab object at 0x7fc87f674c40>, 'man': <gensim.models.keyedvectors.Vocab object at 0x7fc87f674be0>, 'part': <gensim.models.keyedvectors.Vocab object at 0x7fc87f674b80>, 'subject': <gensim.models.keyedvectors.Vocab object at 0x7fc87f674b20>, 'matter': <gensim.models.keyedvectors.Vocab object at 0x7fc87f674ac0>, 'perfect': <gensim.models.keyedvectors.Vocab object at 0x7fc87f674a60>, 'use': <gensim.models.keyedvectors.Vocab object at 0x7fc87f674a00>, 'anything': <gensim.models.keyedvectors.Vocab object at 0x7fc87f6749a0>, 'even': <gensim.models.keyedvectors.Vocab object at 0x7fc87f674940>, 'true': <gensim.models.keyedvectors.Vocab object at 0x7fc87f6748e0>, 'ever': <gensim.models.keyedvectors.Vocab object at 0x7fc87f674880>, 'everything': <gensim.models.keyedvectors.Vocab object at 0x7fc87f674820>, 'thought': <gensim.models.keyedvectors.Vocab object at 0x7fc87f6747c0>, 'point': <gensim.models.keyedvectors.Vocab object at 0x7fc87f674760>, 'view': <gensim.models.keyedvectors.Vocab object at 0x7fc87f674700>, 'type': <gensim.models.keyedvectors.Vocab object at 0x7fc87f6746a0>, 'feeling': <gensim.models.keyedvectors.Vocab object at 0x7fc87f674610>, 'go': <gensim.models.keyedvectors.Vocab object at 0x7fc87f6745b0>, 'beneath': <gensim.models.keyedvectors.Vocab object at 0x7fc87f674550>, 'read': <gensim.models.keyedvectors.Vocab object at 0x7fc87f5a56a0>, 'really': <gensim.models.keyedvectors.Vocab object at 0x7fc87f5a5460>, 'work': <gensim.models.keyedvectors.Vocab object at 0x7fc87f5a5340>, 'forgive': <gensim.models.keyedvectors.Vocab object at 0x7fc87f5a5580>, 'making': <gensim.models.keyedvectors.Vocab object at 0x7fc87f5a5520>, 'long': <gensim.models.keyedvectors.Vocab object at 0x7fc87f5a5eb0>, 'one': <gensim.models.keyedvectors.Vocab object at 0x7fc87f5a5ca0>, 'quite': <gensim.models.keyedvectors.Vocab object at 0x7fc87f5a5c10>, 'chapter': <gensim.models.keyedvectors.Vocab object at 0x7fc87f5a5b50>, 'studio': <gensim.models.keyedvectors.Vocab object at 0x7fc87f687040>, 'filled': <gensim.models.keyedvectors.Vocab object at 0x7fc87f6870a0>, 'rich': <gensim.models.keyedvectors.Vocab object at 0x7fc87f687100>, 'roses': <gensim.models.keyedvectors.Vocab object at 0x7fc87f687160>, 'light': <gensim.models.keyedvectors.Vocab object at 0x7fc87f6871c0>, 'summer': <gensim.models.keyedvectors.Vocab object at 0x7fc87f687220>, 'wind': <gensim.models.keyedvectors.Vocab object at 0x7fc87f687280>, 'stirred': <gensim.models.keyedvectors.Vocab object at 0x7fc87f6872e0>, 'garden': <gensim.models.keyedvectors.Vocab object at 0x7fc87f687340>, 'came': <gensim.models.keyedvectors.Vocab object at 0x7fc87f6873a0>, 'open': <gensim.models.keyedvectors.Vocab object at 0x7fc87f687400>, 'door': <gensim.models.keyedvectors.Vocab object at 0x7fc87f687460>, 'heavy': <gensim.models.keyedvectors.Vocab object at 0x7fc87f6874c0>, 'corner': <gensim.models.keyedvectors.Vocab object at 0x7fc87f687520>, 'lying': <gensim.models.keyedvectors.Vocab object at 0x7fc87f687580>, 'lord': <gensim.models.keyedvectors.Vocab object at 0x7fc87f6875e0>, 'henry': <gensim.models.keyedvectors.Vocab object at 0x7fc87f687640>, 'could': <gensim.models.keyedvectors.Vocab object at 0x7fc87f6876a0>, 'coloured': <gensim.models.keyedvectors.Vocab object at 0x7fc87f687700>, 'blossoms': <gensim.models.keyedvectors.Vocab object at 0x7fc87f687760>, 'whose': <gensim.models.keyedvectors.Vocab object at 0x7fc87f6877c0>, 'seemed': <gensim.models.keyedvectors.Vocab object at 0x7fc87f687820>, 'hardly': <gensim.models.keyedvectors.Vocab object at 0x7fc87f687880>, 'able': <gensim.models.keyedvectors.Vocab object at 0x7fc87f6878e0>, 'bear': <gensim.models.keyedvectors.Vocab object at 0x7fc87f687940>, 'fantastic': <gensim.models.keyedvectors.Vocab object at 0x7fc87f6879a0>, 'shadows': <gensim.models.keyedvectors.Vocab object at 0x7fc87f687a00>, 'birds': <gensim.models.keyedvectors.Vocab object at 0x7fc87f687a60>, 'across': <gensim.models.keyedvectors.Vocab object at 0x7fc87f687ac0>, 'silk': <gensim.models.keyedvectors.Vocab object at 0x7fc87f687b20>, 'front': <gensim.models.keyedvectors.Vocab object at 0x7fc87f687b80>, 'huge': <gensim.models.keyedvectors.Vocab object at 0x7fc87f687be0>, 'window': <gensim.models.keyedvectors.Vocab object at 0x7fc87f687c40>, 'kind': <gensim.models.keyedvectors.Vocab object at 0x7fc87f687ca0>, 'effect': <gensim.models.keyedvectors.Vocab object at 0x7fc87f687d00>, 'think': <gensim.models.keyedvectors.Vocab object at 0x7fc87f687d60>, 'sense': <gensim.models.keyedvectors.Vocab object at 0x7fc87f687dc0>, 'way': <gensim.models.keyedvectors.Vocab object at 0x7fc87f687e20>, 'round': <gensim.models.keyedvectors.Vocab object at 0x7fc87f687e80>, 'gilt': <gensim.models.keyedvectors.Vocab object at 0x7fc87f687ee0>, 'make': <gensim.models.keyedvectors.Vocab object at 0x7fc87f687f40>, 'dim': <gensim.models.keyedvectors.Vocab object at 0x7fc87f687fa0>, 'london': <gensim.models.keyedvectors.Vocab object at 0x7fc87f683040>, 'like': <gensim.models.keyedvectors.Vocab object at 0x7fc87f6830a0>, 'note': <gensim.models.keyedvectors.Vocab object at 0x7fc87f683100>, 'room': <gensim.models.keyedvectors.Vocab object at 0x7fc87f683160>, 'stood': <gensim.models.keyedvectors.Vocab object at 0x7fc87f6831c0>, 'full': <gensim.models.keyedvectors.Vocab object at 0x7fc87f683220>, 'portrait': <gensim.models.keyedvectors.Vocab object at 0x7fc87f683280>, 'young': <gensim.models.keyedvectors.Vocab object at 0x7fc87f6832e0>, 'extraordinary': <gensim.models.keyedvectors.Vocab object at 0x7fc87f683340>, 'little': <gensim.models.keyedvectors.Vocab object at 0x7fc87f6833a0>, 'away': <gensim.models.keyedvectors.Vocab object at 0x7fc87f683400>, 'sitting': <gensim.models.keyedvectors.Vocab object at 0x7fc87f683460>, 'basil': <gensim.models.keyedvectors.Vocab object at 0x7fc87f6834c0>, 'hallward': <gensim.models.keyedvectors.Vocab object at 0x7fc87f683520>, 'sudden': <gensim.models.keyedvectors.Vocab object at 0x7fc87f683580>, 'years': <gensim.models.keyedvectors.Vocab object at 0x7fc87f6835e0>, 'ago': <gensim.models.keyedvectors.Vocab object at 0x7fc87f683640>, 'time': <gensim.models.keyedvectors.Vocab object at 0x7fc87f6836a0>, 'public': <gensim.models.keyedvectors.Vocab object at 0x7fc87f683700>, 'gave': <gensim.models.keyedvectors.Vocab object at 0x7fc87f683760>, 'many': <gensim.models.keyedvectors.Vocab object at 0x7fc87f6837c0>, 'strange': <gensim.models.keyedvectors.Vocab object at 0x7fc87f683820>, 'painter': <gensim.models.keyedvectors.Vocab object at 0x7fc87f683880>, 'looked': <gensim.models.keyedvectors.Vocab object at 0x7fc87f6838e0>, 'smile': <gensim.models.keyedvectors.Vocab object at 0x7fc87f683940>, 'pleasure': <gensim.models.keyedvectors.Vocab object at 0x7fc87f6839a0>, 'passed': <gensim.models.keyedvectors.Vocab object at 0x7fc87f683a00>, 'suddenly': <gensim.models.keyedvectors.Vocab object at 0x7fc87f683a60>, 'started': <gensim.models.keyedvectors.Vocab object at 0x7fc87f683ac0>, 'eyes': <gensim.models.keyedvectors.Vocab object at 0x7fc87f683b20>, 'placed': <gensim.models.keyedvectors.Vocab object at 0x7fc87f683b80>, 'fingers': <gensim.models.keyedvectors.Vocab object at 0x7fc87f683be0>, 'upon': <gensim.models.keyedvectors.Vocab object at 0x7fc87f683c40>, 'though': <gensim.models.keyedvectors.Vocab object at 0x7fc87f683ca0>, 'sought': <gensim.models.keyedvectors.Vocab object at 0x7fc87f683d00>, 'within': <gensim.models.keyedvectors.Vocab object at 0x7fc87f683d60>, 'brain': <gensim.models.keyedvectors.Vocab object at 0x7fc87f683dc0>, 'curious': <gensim.models.keyedvectors.Vocab object at 0x7fc87f683e20>, 'dream': <gensim.models.keyedvectors.Vocab object at 0x7fc87f683e80>, 'might': <gensim.models.keyedvectors.Vocab object at 0x7fc87f683ee0>, 'best': <gensim.models.keyedvectors.Vocab object at 0x7fc87f683f40>, 'done': <gensim.models.keyedvectors.Vocab object at 0x7fc87f683fa0>, 'said': <gensim.models.keyedvectors.Vocab object at 0x7fc87f688fa0>, 'must': <gensim.models.keyedvectors.Vocab object at 0x7fc87f688f40>, 'certainly': <gensim.models.keyedvectors.Vocab object at 0x7fc87f688ee0>, 'send': <gensim.models.keyedvectors.Vocab object at 0x7fc87f688e80>, 'next': <gensim.models.keyedvectors.Vocab object at 0x7fc87f688e20>, 'year': <gensim.models.keyedvectors.Vocab object at 0x7fc87f688dc0>, 'large': <gensim.models.keyedvectors.Vocab object at 0x7fc87f688d60>, 'vulgar': <gensim.models.keyedvectors.Vocab object at 0x7fc87f688d00>, 'gone': <gensim.models.keyedvectors.Vocab object at 0x7fc87f688ca0>, 'either': <gensim.models.keyedvectors.Vocab object at 0x7fc87f688c40>, 'people': <gensim.models.keyedvectors.Vocab object at 0x7fc87f688be0>, 'see': <gensim.models.keyedvectors.Vocab object at 0x7fc87f688b80>, 'dreadful': <gensim.models.keyedvectors.Vocab object at 0x7fc87f688b20>, 'worse': <gensim.models.keyedvectors.Vocab object at 0x7fc87f688ac0>, 'place': <gensim.models.keyedvectors.Vocab object at 0x7fc87f688a60>, 'shall': <gensim.models.keyedvectors.Vocab object at 0x7fc87f688a00>, 'answered': <gensim.models.keyedvectors.Vocab object at 0x7fc87f6889a0>, 'head': <gensim.models.keyedvectors.Vocab object at 0x7fc87f688940>, 'back': <gensim.models.keyedvectors.Vocab object at 0x7fc87f6888e0>, 'used': <gensim.models.keyedvectors.Vocab object at 0x7fc87f688880>, 'friends': <gensim.models.keyedvectors.Vocab object at 0x7fc87f688820>, 'laugh': <gensim.models.keyedvectors.Vocab object at 0x7fc87f6887c0>, 'thin': <gensim.models.keyedvectors.Vocab object at 0x7fc87f688760>, 'blue': <gensim.models.keyedvectors.Vocab object at 0x7fc87f688700>, 'cigarette': <gensim.models.keyedvectors.Vocab object at 0x7fc87f6886a0>, 'dear': <gensim.models.keyedvectors.Vocab object at 0x7fc87f688640>, 'fellow': <gensim.models.keyedvectors.Vocab object at 0x7fc87f6885e0>, 'reason': <gensim.models.keyedvectors.Vocab object at 0x7fc87f688580>, 'world': <gensim.models.keyedvectors.Vocab object at 0x7fc87f688520>, 'soon': <gensim.models.keyedvectors.Vocab object at 0x7fc87f6884c0>, 'seem': <gensim.models.keyedvectors.Vocab object at 0x7fc87f688460>, 'want': <gensim.models.keyedvectors.Vocab object at 0x7fc87f688400>, 'silly': <gensim.models.keyedvectors.Vocab object at 0x7fc87f6883a0>, 'would': <gensim.models.keyedvectors.Vocab object at 0x7fc87f688340>, 'set': <gensim.models.keyedvectors.Vocab object at 0x7fc87f6882e0>, 'far': <gensim.models.keyedvectors.Vocab object at 0x7fc87f688280>, 'men': <gensim.models.keyedvectors.Vocab object at 0x7fc87f688220>, 'england': <gensim.models.keyedvectors.Vocab object at 0x7fc87f6881c0>, 'old': <gensim.models.keyedvectors.Vocab object at 0x7fc87f688160>, 'jealous': <gensim.models.keyedvectors.Vocab object at 0x7fc87f688100>, 'know': <gensim.models.keyedvectors.Vocab object at 0x7fc87f6880a0>, 'exhibit': <gensim.models.keyedvectors.Vocab object at 0x7fc87f688040>, 'put': <gensim.models.keyedvectors.Vocab object at 0x7fc87f686fa0>, 'much': <gensim.models.keyedvectors.Vocab object at 0x7fc87f686f40>, 'laughed': <gensim.models.keyedvectors.Vocab object at 0x7fc87f686ee0>, 'yes': <gensim.models.keyedvectors.Vocab object at 0x7fc87f686e80>, 'knew': <gensim.models.keyedvectors.Vocab object at 0x7fc87f686e20>, 'word': <gensim.models.keyedvectors.Vocab object at 0x7fc87f686dc0>, 'black': <gensim.models.keyedvectors.Vocab object at 0x7fc87f686d60>, 'hair': <gensim.models.keyedvectors.Vocab object at 0x7fc87f686d00>, 'looks': <gensim.models.keyedvectors.Vocab object at 0x7fc87f686ca0>, 'made': <gensim.models.keyedvectors.Vocab object at 0x7fc87f686c40>, 'rose': <gensim.models.keyedvectors.Vocab object at 0x7fc87f686be0>, 'leaves': <gensim.models.keyedvectors.Vocab object at 0x7fc87f686b80>, 'course': <gensim.models.keyedvectors.Vocab object at 0x7fc87f686b20>, 'intellectual': <gensim.models.keyedvectors.Vocab object at 0x7fc87f686ac0>, 'expression': <gensim.models.keyedvectors.Vocab object at 0x7fc87f686a60>, 'real': <gensim.models.keyedvectors.Vocab object at 0x7fc87f686a00>, 'intellect': <gensim.models.keyedvectors.Vocab object at 0x7fc87f6869a0>, 'moment': <gensim.models.keyedvectors.Vocab object at 0x7fc87f686940>, 'forehead': <gensim.models.keyedvectors.Vocab object at 0x7fc87f6868e0>, 'something': <gensim.models.keyedvectors.Vocab object at 0x7fc87f686880>, 'horrid': <gensim.models.keyedvectors.Vocab object at 0x7fc87f686820>, 'look': <gensim.models.keyedvectors.Vocab object at 0x7fc87f6867c0>, 'perfectly': <gensim.models.keyedvectors.Vocab object at 0x7fc87f686760>, 'hideous': <gensim.models.keyedvectors.Vocab object at 0x7fc87f686700>, 'except': <gensim.models.keyedvectors.Vocab object at 0x7fc87f6866a0>, 'saying': <gensim.models.keyedvectors.Vocab object at 0x7fc87f686640>, 'age': <gensim.models.keyedvectors.Vocab object at 0x7fc87f6865e0>, 'told': <gensim.models.keyedvectors.Vocab object at 0x7fc87f686580>, 'say': <gensim.models.keyedvectors.Vocab object at 0x7fc87f686520>, 'boy': <gensim.models.keyedvectors.Vocab object at 0x7fc87f6864c0>, 'always': <gensim.models.keyedvectors.Vocab object at 0x7fc87f686460>, 'absolutely': <gensim.models.keyedvectors.Vocab object at 0x7fc87f686400>, 'delightful': <gensim.models.keyedvectors.Vocab object at 0x7fc87f6863a0>, 'friend': <gensim.models.keyedvectors.Vocab object at 0x7fc87f686340>, 'name': <gensim.models.keyedvectors.Vocab object at 0x7fc87f6862e0>, 'never': <gensim.models.keyedvectors.Vocab object at 0x7fc87f686280>, 'picture': <gensim.models.keyedvectors.Vocab object at 0x7fc87f686220>, 'feel': <gensim.models.keyedvectors.Vocab object at 0x7fc87f6861c0>, 'sure': <gensim.models.keyedvectors.Vocab object at 0x7fc87f686160>, 'flowers': <gensim.models.keyedvectors.Vocab object at 0x7fc87f686100>, 'least': <gensim.models.keyedvectors.Vocab object at 0x7fc87f6860a0>, 'understand': <gensim.models.keyedvectors.Vocab object at 0x7fc87f686040>, 'harry': <gensim.models.keyedvectors.Vocab object at 0x7fc87f685fa0>, 'indeed': <gensim.models.keyedvectors.Vocab object at 0x7fc87f685f40>, 'sorry': <gensim.models.keyedvectors.Vocab object at 0x7fc87f685ee0>, 'shoulders': <gensim.models.keyedvectors.Vocab object at 0x7fc87f685e80>, 'telling': <gensim.models.keyedvectors.Vocab object at 0x7fc87f685e20>, 'sort': <gensim.models.keyedvectors.Vocab object at 0x7fc87f685dc0>, 'seems': <gensim.models.keyedvectors.Vocab object at 0x7fc87f685d60>, 'history': <gensim.models.keyedvectors.Vocab object at 0x7fc87f685d00>, 'better': <gensim.models.keyedvectors.Vocab object at 0x7fc87f685ca0>, 'different': <gensim.models.keyedvectors.Vocab object at 0x7fc87f685c40>, 'sit': <gensim.models.keyedvectors.Vocab object at 0x7fc87f685be0>, 'play': <gensim.models.keyedvectors.Vocab object at 0x7fc87f685b80>, 'nothing': <gensim.models.keyedvectors.Vocab object at 0x7fc87f685b20>, 'live': <gensim.models.keyedvectors.Vocab object at 0x7fc87f685ac0>, 'indifferent': <gensim.models.keyedvectors.Vocab object at 0x7fc87f685a60>, 'bring': <gensim.models.keyedvectors.Vocab object at 0x7fc87f685a00>, 'others': <gensim.models.keyedvectors.Vocab object at 0x7fc87f6859a0>, 'hands': <gensim.models.keyedvectors.Vocab object at 0x7fc87f685940>, 'whatever': <gensim.models.keyedvectors.Vocab object at 0x7fc87f6858e0>, 'may': <gensim.models.keyedvectors.Vocab object at 0x7fc87f685880>, 'worth': <gensim.models.keyedvectors.Vocab object at 0x7fc87f685820>, 'dorian': <gensim.models.keyedvectors.Vocab object at 0x7fc87f6857c0>, 'gray': <gensim.models.keyedvectors.Vocab object at 0x7fc87f685760>, 'good': <gensim.models.keyedvectors.Vocab object at 0x7fc87f685700>, 'given': <gensim.models.keyedvectors.Vocab object at 0x7fc87f6856a0>, 'us': <gensim.models.keyedvectors.Vocab object at 0x7fc87f685640>, 'terribly': <gensim.models.keyedvectors.Vocab object at 0x7fc87f6855e0>, 'asked': <gensim.models.keyedvectors.Vocab object at 0x7fc87f685580>, 'walking': <gensim.models.keyedvectors.Vocab object at 0x7fc87f685520>, 'towards': <gensim.models.keyedvectors.Vocab object at 0x7fc87f6854c0>, 'tell': <gensim.models.keyedvectors.Vocab object at 0x7fc87f685460>, 'oh': <gensim.models.keyedvectors.Vocab object at 0x7fc87f685400>, 'love': <gensim.models.keyedvectors.Vocab object at 0x7fc87f6853a0>, 'modern': <gensim.models.keyedvectors.Vocab object at 0x7fc87f685340>, 'marvellous': <gensim.models.keyedvectors.Vocab object at 0x7fc87f6852e0>, 'leave': <gensim.models.keyedvectors.Vocab object at 0x7fc87f685280>, 'town': <gensim.models.keyedvectors.Vocab object at 0x7fc87f685220>, 'going': <gensim.models.keyedvectors.Vocab object at 0x7fc87f6851c0>, 'lose': <gensim.models.keyedvectors.Vocab object at 0x7fc87f685160>, 'dare': <gensim.models.keyedvectors.Vocab object at 0x7fc87f685100>, 'great': <gensim.models.keyedvectors.Vocab object at 0x7fc87f6850a0>, 'deal': <gensim.models.keyedvectors.Vocab object at 0x7fc87f685040>, 'romance': <gensim.models.keyedvectors.Vocab object at 0x7fc87f684fa0>, 'suppose': <gensim.models.keyedvectors.Vocab object at 0x7fc87f684f40>, 'foolish': <gensim.models.keyedvectors.Vocab object at 0x7fc87f684ee0>, 'forget': <gensim.models.keyedvectors.Vocab object at 0x7fc87f684e80>, 'married': <gensim.models.keyedvectors.Vocab object at 0x7fc87f684e20>, 'charm': <gensim.models.keyedvectors.Vocab object at 0x7fc87f684dc0>, 'marriage': <gensim.models.keyedvectors.Vocab object at 0x7fc87f684d60>, 'makes': <gensim.models.keyedvectors.Vocab object at 0x7fc87f684d00>, 'wife': <gensim.models.keyedvectors.Vocab object at 0x7fc87f684ca0>, 'knows': <gensim.models.keyedvectors.Vocab object at 0x7fc87f684c40>, 'meet': <gensim.models.keyedvectors.Vocab object at 0x7fc87f684be0>, 'dine': <gensim.models.keyedvectors.Vocab object at 0x7fc87f684b80>, 'together': <gensim.models.keyedvectors.Vocab object at 0x7fc87f684b20>, 'absurd': <gensim.models.keyedvectors.Vocab object at 0x7fc87f684ac0>, 'serious': <gensim.models.keyedvectors.Vocab object at 0x7fc87f684a60>, 'faces': <gensim.models.keyedvectors.Vocab object at 0x7fc87f684a00>, 'fact': <gensim.models.keyedvectors.Vocab object at 0x7fc87f6849a0>, 'sometimes': <gensim.models.keyedvectors.Vocab object at 0x7fc87f684940>, 'wish': <gensim.models.keyedvectors.Vocab object at 0x7fc87f6848e0>, 'merely': <gensim.models.keyedvectors.Vocab object at 0x7fc87f684880>, 'hate': <gensim.models.keyedvectors.Vocab object at 0x7fc87f684820>, 'talk': <gensim.models.keyedvectors.Vocab object at 0x7fc87f6847c0>, 'led': <gensim.models.keyedvectors.Vocab object at 0x7fc87f684760>, 'believe': <gensim.models.keyedvectors.Vocab object at 0x7fc87f684700>, 'husband': <gensim.models.keyedvectors.Vocab object at 0x7fc87f6846a0>, 'wrong': <gensim.models.keyedvectors.Vocab object at 0x7fc87f684640>, 'simply': <gensim.models.keyedvectors.Vocab object at 0x7fc87f6845e0>, 'cried': <gensim.models.keyedvectors.Vocab object at 0x7fc87f684580>, 'laughing': <gensim.models.keyedvectors.Vocab object at 0x7fc87f684520>, 'two': <gensim.models.keyedvectors.Vocab object at 0x7fc87f6844c0>, 'went': <gensim.models.keyedvectors.Vocab object at 0x7fc87f684460>, 'sunlight': <gensim.models.keyedvectors.Vocab object at 0x7fc87f684400>, 'white': <gensim.models.keyedvectors.Vocab object at 0x7fc87f6843a0>, 'watch': <gensim.models.keyedvectors.Vocab object at 0x7fc87f684340>, 'afraid': <gensim.models.keyedvectors.Vocab object at 0x7fc87f6842e0>, 'murmured': <gensim.models.keyedvectors.Vocab object at 0x7fc87f684280>, 'question': <gensim.models.keyedvectors.Vocab object at 0x7fc87f684220>, 'looking': <gensim.models.keyedvectors.Vocab object at 0x7fc87f6841c0>, 'straight': <gensim.models.keyedvectors.Vocab object at 0x7fc87f684160>, 'every': <gensim.models.keyedvectors.Vocab object at 0x7fc87f684100>, 'painted': <gensim.models.keyedvectors.Vocab object at 0x7fc87f6840a0>, 'revealed': <gensim.models.keyedvectors.Vocab object at 0x7fc87f684040>, 'rather': <gensim.models.keyedvectors.Vocab object at 0x7fc87f682fa0>, 'canvas': <gensim.models.keyedvectors.Vocab object at 0x7fc87f682f40>, 'shown': <gensim.models.keyedvectors.Vocab object at 0x7fc87f682ee0>, 'secret': <gensim.models.keyedvectors.Vocab object at 0x7fc87f682e80>, 'soul': <gensim.models.keyedvectors.Vocab object at 0x7fc87f682e20>, 'continued': <gensim.models.keyedvectors.Vocab object at 0x7fc87f682dc0>, 'perhaps': <gensim.models.keyedvectors.Vocab object at 0x7fc87f682d60>, 'smiled': <gensim.models.keyedvectors.Vocab object at 0x7fc87f682d00>, 'gazing': <gensim.models.keyedvectors.Vocab object at 0x7fc87f682ca0>, 'shook': <gensim.models.keyedvectors.Vocab object at 0x7fc87f682c40>, 'moved': <gensim.models.keyedvectors.Vocab object at 0x7fc87f682be0>, 'air': <gensim.models.keyedvectors.Vocab object at 0x7fc87f682b80>, 'began': <gensim.models.keyedvectors.Vocab object at 0x7fc87f682b20>, 'past': <gensim.models.keyedvectors.Vocab object at 0x7fc87f682ac0>, 'felt': <gensim.models.keyedvectors.Vocab object at 0x7fc87f682a60>, 'hear': <gensim.models.keyedvectors.Vocab object at 0x7fc87d746c40>, 'heart': <gensim.models.keyedvectors.Vocab object at 0x7fc87f5a50a0>, 'wondered': <gensim.models.keyedvectors.Vocab object at 0x7fc87f682a30>, 'coming': <gensim.models.keyedvectors.Vocab object at 0x7fc87f6829d0>, 'story': <gensim.models.keyedvectors.Vocab object at 0x7fc87f682970>, 'months': <gensim.models.keyedvectors.Vocab object at 0x7fc87f682910>, 'lady': <gensim.models.keyedvectors.Vocab object at 0x7fc87f6828b0>, 'poor': <gensim.models.keyedvectors.Vocab object at 0x7fc87f682850>, 'show': <gensim.models.keyedvectors.Vocab object at 0x7fc87f6827f0>, 'society': <gensim.models.keyedvectors.Vocab object at 0x7fc87f682790>, 'evening': <gensim.models.keyedvectors.Vocab object at 0x7fc87f682730>, 'coat': <gensim.models.keyedvectors.Vocab object at 0x7fc87f6826d0>, 'ten': <gensim.models.keyedvectors.Vocab object at 0x7fc87f682670>, 'minutes': <gensim.models.keyedvectors.Vocab object at 0x7fc87f682610>, 'talking': <gensim.models.keyedvectors.Vocab object at 0x7fc87f6825b0>, 'tedious': <gensim.models.keyedvectors.Vocab object at 0x7fc87f682550>, 'became': <gensim.models.keyedvectors.Vocab object at 0x7fc87f6824f0>, 'conscious': <gensim.models.keyedvectors.Vocab object at 0x7fc87f682490>, 'turned': <gensim.models.keyedvectors.Vocab object at 0x7fc87f682430>, 'half': <gensim.models.keyedvectors.Vocab object at 0x7fc87f6823d0>, 'saw': <gensim.models.keyedvectors.Vocab object at 0x7fc87f682370>, 'first': <gensim.models.keyedvectors.Vocab object at 0x7fc87f682310>, 'met': <gensim.models.keyedvectors.Vocab object at 0x7fc87f6822b0>, 'pale': <gensim.models.keyedvectors.Vocab object at 0x7fc87f682250>, 'terror': <gensim.models.keyedvectors.Vocab object at 0x7fc87f6821f0>, 'come': <gensim.models.keyedvectors.Vocab object at 0x7fc87f682190>, 'mere': <gensim.models.keyedvectors.Vocab object at 0x7fc87f682130>, 'personality': <gensim.models.keyedvectors.Vocab object at 0x7fc87f6820d0>, 'fascinating': <gensim.models.keyedvectors.Vocab object at 0x7fc87f682070>, 'whole': <gensim.models.keyedvectors.Vocab object at 0x7fc87f681fd0>, 'nature': <gensim.models.keyedvectors.Vocab object at 0x7fc87f681f70>, 'influence': <gensim.models.keyedvectors.Vocab object at 0x7fc87f681f10>, 'till': <gensim.models.keyedvectors.Vocab object at 0x7fc87f681eb0>, 'terrible': <gensim.models.keyedvectors.Vocab object at 0x7fc87f681e50>, 'store': <gensim.models.keyedvectors.Vocab object at 0x7fc87f681df0>, 'exquisite': <gensim.models.keyedvectors.Vocab object at 0x7fc87f681d90>, 'grew': <gensim.models.keyedvectors.Vocab object at 0x7fc87f681d30>, 'conscience': <gensim.models.keyedvectors.Vocab object at 0x7fc87f681cd0>, 'take': <gensim.models.keyedvectors.Vocab object at 0x7fc87f681c70>, 'trying': <gensim.models.keyedvectors.Vocab object at 0x7fc87f681c10>, 'escape': <gensim.models.keyedvectors.Vocab object at 0x7fc87f681bb0>, 'however': <gensim.models.keyedvectors.Vocab object at 0x7fc87f681b50>, 'mr': <gensim.models.keyedvectors.Vocab object at 0x7fc87f681af0>, 'curiously': <gensim.models.keyedvectors.Vocab object at 0x7fc87f681a90>, 'voice': <gensim.models.keyedvectors.Vocab object at 0x7fc87f681a30>, 'get': <gensim.models.keyedvectors.Vocab object at 0x7fc87f6819d0>, 'brought': <gensim.models.keyedvectors.Vocab object at 0x7fc87f681970>, 'spoke': <gensim.models.keyedvectors.Vocab object at 0x7fc87f681910>, 'took': <gensim.models.keyedvectors.Vocab object at 0x7fc87f6818b0>, 'mine': <gensim.models.keyedvectors.Vocab object at 0x7fc87f681850>, 'found': <gensim.models.keyedvectors.Vocab object at 0x7fc87f6817f0>, 'strangely': <gensim.models.keyedvectors.Vocab object at 0x7fc87f681790>, 'close': <gensim.models.keyedvectors.Vocab object at 0x7fc87f681730>, 'almost': <gensim.models.keyedvectors.Vocab object at 0x7fc87f6816d0>, 'afterwards': <gensim.models.keyedvectors.Vocab object at 0x7fc87f681670>, 'wonderful': <gensim.models.keyedvectors.Vocab object at 0x7fc87f681610>, 'giving': <gensim.models.keyedvectors.Vocab object at 0x7fc87f6815b0>, 'remember': <gensim.models.keyedvectors.Vocab object at 0x7fc87f681550>, 'red': <gensim.models.keyedvectors.Vocab object at 0x7fc87f6814f0>, 'gentleman': <gensim.models.keyedvectors.Vocab object at 0x7fc87f681490>, 'covered': <gensim.models.keyedvectors.Vocab object at 0x7fc87f681430>, 'ear': <gensim.models.keyedvectors.Vocab object at 0x7fc87f6813d0>, 'tragic': <gensim.models.keyedvectors.Vocab object at 0x7fc87f681370>, 'everybody': <gensim.models.keyedvectors.Vocab object at 0x7fc87f681310>, 'entirely': <gensim.models.keyedvectors.Vocab object at 0x7fc87f6812b0>, 'hard': <gensim.models.keyedvectors.Vocab object at 0x7fc87f681250>, 'mother': <gensim.models.keyedvectors.Vocab object at 0x7fc87f6811f0>, 'help': <gensim.models.keyedvectors.Vocab object at 0x7fc87f681190>, 'bad': <gensim.models.keyedvectors.Vocab object at 0x7fc87f681130>, 'beginning': <gensim.models.keyedvectors.Vocab object at 0x7fc87f6810d0>, 'horribly': <gensim.models.keyedvectors.Vocab object at 0x7fc87f681070>, 'hat': <gensim.models.keyedvectors.Vocab object at 0x7fc87f680fd0>, 'sky': <gensim.models.keyedvectors.Vocab object at 0x7fc87f680f70>, 'got': <gensim.models.keyedvectors.Vocab object at 0x7fc87f680f10>, 'less': <gensim.models.keyedvectors.Vocab object at 0x7fc87f680eb0>, 'care': <gensim.models.keyedvectors.Vocab object at 0x7fc87f680e50>, 'die': <gensim.models.keyedvectors.Vocab object at 0x7fc87f680df0>, 'else': <gensim.models.keyedvectors.Vocab object at 0x7fc87f680d90>, 'exclaimed': <gensim.models.keyedvectors.Vocab object at 0x7fc87f680d30>, 'comes': <gensim.models.keyedvectors.Vocab object at 0x7fc87f680cd0>, 'english': <gensim.models.keyedvectors.Vocab object at 0x7fc87f680c70>, 'call': <gensim.models.keyedvectors.Vocab object at 0x7fc87f680c10>, 'yet': <gensim.models.keyedvectors.Vocab object at 0x7fc87f680bb0>, 'second': <gensim.models.keyedvectors.Vocab object at 0x7fc87f680b50>, 'idea': <gensim.models.keyedvectors.Vocab object at 0x7fc87f680af0>, 'whether': <gensim.models.keyedvectors.Vocab object at 0x7fc87f680a90>, 'right': <gensim.models.keyedvectors.Vocab object at 0x7fc87f680a30>, 'value': <gensim.models.keyedvectors.Vocab object at 0x7fc87f6809d0>, 'case': <gensim.models.keyedvectors.Vocab object at 0x7fc87f680970>, 'often': <gensim.models.keyedvectors.Vocab object at 0x7fc87f680910>, 'day': <gensim.models.keyedvectors.Vocab object at 0x7fc87f6808b0>, 'happy': <gensim.models.keyedvectors.Vocab object at 0x7fc87f680850>, 'also': <gensim.models.keyedvectors.Vocab object at 0x7fc87f6807f0>, 'painting': <gensim.models.keyedvectors.Vocab object at 0x7fc87f680790>, 'late': <gensim.models.keyedvectors.Vocab object at 0x7fc87f680730>, 'since': <gensim.models.keyedvectors.Vocab object at 0x7fc87f6806d0>, 'wonder': <gensim.models.keyedvectors.Vocab object at 0x7fc87f680670>, 'hidden': <gensim.models.keyedvectors.Vocab object at 0x7fc87f680610>, 'days': <gensim.models.keyedvectors.Vocab object at 0x7fc87f6805b0>, 'says': <gensim.models.keyedvectors.Vocab object at 0x7fc87f680550>, 'visible': <gensim.models.keyedvectors.Vocab object at 0x7fc87f6804f0>, 'presence': <gensim.models.keyedvectors.Vocab object at 0x7fc87f680490>, 'lad': <gensim.models.keyedvectors.Vocab object at 0x7fc87f680430>, 'twenty': <gensim.models.keyedvectors.Vocab object at 0x7fc87f6803d0>, 'ah': <gensim.models.keyedvectors.Vocab object at 0x7fc87f680370>, 'realize': <gensim.models.keyedvectors.Vocab object at 0x7fc87f680310>, 'means': <gensim.models.keyedvectors.Vocab object at 0x7fc87f6802b0>, 'lines': <gensim.models.keyedvectors.Vocab object at 0x7fc87f680250>, 'passion': <gensim.models.keyedvectors.Vocab object at 0x7fc87f6801f0>, 'romantic': <gensim.models.keyedvectors.Vocab object at 0x7fc87f680190>, 'spirit': <gensim.models.keyedvectors.Vocab object at 0x7fc87f680130>, 'body': <gensim.models.keyedvectors.Vocab object at 0x7fc87f6800d0>, 'sat': <gensim.models.keyedvectors.Vocab object at 0x7fc87f680070>, 'beside': <gensim.models.keyedvectors.Vocab object at 0x7fc87f67ffd0>, 'subtle': <gensim.models.keyedvectors.Vocab object at 0x7fc87f67ff70>, 'walked': <gensim.models.keyedvectors.Vocab object at 0x7fc87f67ff10>, 'present': <gensim.models.keyedvectors.Vocab object at 0x7fc87f67feb0>, 'certain': <gensim.models.keyedvectors.Vocab object at 0x7fc87f67fe50>, 'speak': <gensim.models.keyedvectors.Vocab object at 0x7fc87f67fdf0>, 'shallow': <gensim.models.keyedvectors.Vocab object at 0x7fc87f67fd90>, 'nowadays': <gensim.models.keyedvectors.Vocab object at 0x7fc87f67fd30>, 'lost': <gensim.models.keyedvectors.Vocab object at 0x7fc87f67fcd0>, 'fond': <gensim.models.keyedvectors.Vocab object at 0x7fc87f67fc70>, 'moments': <gensim.models.keyedvectors.Vocab object at 0x7fc87f67fc10>, 'dreadfully': <gensim.models.keyedvectors.Vocab object at 0x7fc87f67fbb0>, 'pain': <gensim.models.keyedvectors.Vocab object at 0x7fc87f67fb50>, 'flower': <gensim.models.keyedvectors.Vocab object at 0x7fc87f67faf0>, 'bit': <gensim.models.keyedvectors.Vocab object at 0x7fc87f67fa90>, 'sad': <gensim.models.keyedvectors.Vocab object at 0x7fc87f67fa30>, 'doubt': <gensim.models.keyedvectors.Vocab object at 0x7fc87f67f9d0>, 'genius': <gensim.models.keyedvectors.Vocab object at 0x7fc87f67f970>, 'wild': <gensim.models.keyedvectors.Vocab object at 0x7fc87f67f910>, 'ideal': <gensim.models.keyedvectors.Vocab object at 0x7fc87f67f8b0>, 'mind': <gensim.models.keyedvectors.Vocab object at 0x7fc87f67f850>, 'colour': <gensim.models.keyedvectors.Vocab object at 0x7fc87f67f7f0>, 'cold': <gensim.models.keyedvectors.Vocab object at 0x7fc87f67f790>, 'pity': <gensim.models.keyedvectors.Vocab object at 0x7fc87f67f730>, 'alter': <gensim.models.keyedvectors.Vocab object at 0x7fc87f67f6d0>, 'change': <gensim.models.keyedvectors.Vocab object at 0x7fc87f67f670>, 'side': <gensim.models.keyedvectors.Vocab object at 0x7fc87f67f610>, 'struck': <gensim.models.keyedvectors.Vocab object at 0x7fc87f67f5b0>, 'silver': <gensim.models.keyedvectors.Vocab object at 0x7fc87f67f550>, 'self': <gensim.models.keyedvectors.Vocab object at 0x7fc87f67f4f0>, 'green': <gensim.models.keyedvectors.Vocab object at 0x7fc87f67f490>, 'passions': <gensim.models.keyedvectors.Vocab object at 0x7fc87f67f430>, 'silent': <gensim.models.keyedvectors.Vocab object at 0x7fc87f67f3d0>, 'aunt': <gensim.models.keyedvectors.Vocab object at 0x7fc87f67f370>, 'houses': <gensim.models.keyedvectors.Vocab object at 0x7fc87f67f310>, 'lives': <gensim.models.keyedvectors.Vocab object at 0x7fc87f67f2b0>, 'remembered': <gensim.models.keyedvectors.Vocab object at 0x7fc87f67f250>, 'heard': <gensim.models.keyedvectors.Vocab object at 0x7fc87f67f1f0>, 'agatha': <gensim.models.keyedvectors.Vocab object at 0x7fc87f67f190>, 'discovered': <gensim.models.keyedvectors.Vocab object at 0x7fc87f67f130>, 'end': <gensim.models.keyedvectors.Vocab object at 0x7fc87f67f0d0>, 'women': <gensim.models.keyedvectors.Vocab object at 0x7fc87f67f070>, 'feet': <gensim.models.keyedvectors.Vocab object at 0x7fc87f67efd0>, 'known': <gensim.models.keyedvectors.Vocab object at 0x7fc87f67ef70>, 'glad': <gensim.models.keyedvectors.Vocab object at 0x7fc87f67ef10>, 'sir': <gensim.models.keyedvectors.Vocab object at 0x7fc87f67eeb0>, 'servant': <gensim.models.keyedvectors.Vocab object at 0x7fc87f67ee50>, 'ask': <gensim.models.keyedvectors.Vocab object at 0x7fc87f67edf0>, 'try': <gensim.models.keyedvectors.Vocab object at 0x7fc87f67ed90>, 'person': <gensim.models.keyedvectors.Vocab object at 0x7fc87f67ed30>, 'trust': <gensim.models.keyedvectors.Vocab object at 0x7fc87f67ecd0>, 'slowly': <gensim.models.keyedvectors.Vocab object at 0x7fc87f67ec70>, 'words': <gensim.models.keyedvectors.Vocab object at 0x7fc87f67ec10>, 'smiling': <gensim.models.keyedvectors.Vocab object at 0x7fc87f67ebb0>, 'taking': <gensim.models.keyedvectors.Vocab object at 0x7fc87f67eb50>, 'arm': <gensim.models.keyedvectors.Vocab object at 0x7fc87f67eaf0>, 'house': <gensim.models.keyedvectors.Vocab object at 0x7fc87f67ea90>, 'entered': <gensim.models.keyedvectors.Vocab object at 0x7fc87f67ea30>, 'tired': <gensim.models.keyedvectors.Vocab object at 0x7fc87f67e9d0>, 'music': <gensim.models.keyedvectors.Vocab object at 0x7fc87f67e970>, 'caught': <gensim.models.keyedvectors.Vocab object at 0x7fc87f67e910>, 'cheeks': <gensim.models.keyedvectors.Vocab object at 0x7fc87f67e8b0>, 'spoiled': <gensim.models.keyedvectors.Vocab object at 0x7fc87f67e850>, 'hand': <gensim.models.keyedvectors.Vocab object at 0x7fc87f67e7f0>, 'club': <gensim.models.keyedvectors.Vocab object at 0x7fc87f67e790>, 'last': <gensim.models.keyedvectors.Vocab object at 0x7fc87f67e730>, 'played': <gensim.models.keyedvectors.Vocab object at 0x7fc87f67e6d0>, 'three': <gensim.models.keyedvectors.Vocab object at 0x7fc87f67e670>, 'enough': <gensim.models.keyedvectors.Vocab object at 0x7fc87f67e610>, 'scarlet': <gensim.models.keyedvectors.Vocab object at 0x7fc87f67e5b0>, 'lips': <gensim.models.keyedvectors.Vocab object at 0x7fc87f67e550>, 'gold': <gensim.models.keyedvectors.Vocab object at 0x7fc87f67e4f0>, 'youth': <gensim.models.keyedvectors.Vocab object at 0x7fc87f67e490>, 'kept': <gensim.models.keyedvectors.Vocab object at 0x7fc87f67e430>, 'worshipped': <gensim.models.keyedvectors.Vocab object at 0x7fc87f67e3d0>, 'flung': <gensim.models.keyedvectors.Vocab object at 0x7fc87f67e370>, 'opened': <gensim.models.keyedvectors.Vocab object at 0x7fc87f67e310>, 'ready': <gensim.models.keyedvectors.Vocab object at 0x7fc87f67e2b0>, 'glanced': <gensim.models.keyedvectors.Vocab object at 0x7fc87f67e250>, 'hesitated': <gensim.models.keyedvectors.Vocab object at 0x7fc87f67e1f0>, 'besides': <gensim.models.keyedvectors.Vocab object at 0x7fc87f67e190>, 'stop': <gensim.models.keyedvectors.Vocab object at 0x7fc87f67e130>, 'lip': <gensim.models.keyedvectors.Vocab object at 0x7fc87f67e0d0>, 'stay': <gensim.models.keyedvectors.Vocab object at 0x7fc87f67e070>, 'bye': <gensim.models.keyedvectors.Vocab object at 0x7fc87f67dfd0>, 'street': <gensim.models.keyedvectors.Vocab object at 0x7fc87f67df70>, 'nearly': <gensim.models.keyedvectors.Vocab object at 0x7fc87f67df10>, 'home': <gensim.models.keyedvectors.Vocab object at 0x7fc87f67deb0>, 'five': <gensim.models.keyedvectors.Vocab object at 0x7fc87f67de50>, 'clock': <gensim.models.keyedvectors.Vocab object at 0x7fc87f67ddf0>, 'write': <gensim.models.keyedvectors.Vocab object at 0x7fc87f67dd90>, 'dull': <gensim.models.keyedvectors.Vocab object at 0x7fc87f67dd30>, 'standing': <gensim.models.keyedvectors.Vocab object at 0x7fc87f67dcd0>, 'listen': <gensim.models.keyedvectors.Vocab object at 0x7fc87f67dc70>, 'pay': <gensim.models.keyedvectors.Vocab object at 0x7fc87f67dc10>, 'taken': <gensim.models.keyedvectors.Vocab object at 0x7fc87f67dbb0>, 'fancy': <gensim.models.keyedvectors.Vocab object at 0x7fc87f67db50>, 'scientific': <gensim.models.keyedvectors.Vocab object at 0x7fc87f67daf0>, 'give': <gensim.models.keyedvectors.Vocab object at 0x7fc87f67da90>, 'sins': <gensim.models.keyedvectors.Vocab object at 0x7fc87f67da30>, 'forgotten': <gensim.models.keyedvectors.Vocab object at 0x7fc87f67d9d0>, 'god': <gensim.models.keyedvectors.Vocab object at 0x7fc87f67d970>, 'deep': <gensim.models.keyedvectors.Vocab object at 0x7fc87f67d910>, 'seen': <gensim.models.keyedvectors.Vocab object at 0x7fc87f67d8b0>, 'low': <gensim.models.keyedvectors.Vocab object at 0x7fc87f67d850>, 'reality': <gensim.models.keyedvectors.Vocab object at 0x7fc87f67d7f0>, 'joy': <gensim.models.keyedvectors.Vocab object at 0x7fc87f67d790>, 'sin': <gensim.models.keyedvectors.Vocab object at 0x7fc87f67d730>, 'sick': <gensim.models.keyedvectors.Vocab object at 0x7fc87f67d6d0>, 'desire': <gensim.models.keyedvectors.Vocab object at 0x7fc87f67d670>, 'monstrous': <gensim.models.keyedvectors.Vocab object at 0x7fc87f67d610>, 'boyhood': <gensim.models.keyedvectors.Vocab object at 0x7fc87f67d5b0>, 'memory': <gensim.models.keyedvectors.Vocab object at 0x7fc87f67d550>, 'shame': <gensim.models.keyedvectors.Vocab object at 0x7fc87f67d4f0>, 'answer': <gensim.models.keyedvectors.Vocab object at 0x7fc87f67d490>, 'let': <gensim.models.keyedvectors.Vocab object at 0x7fc87f67d430>, 'bright': <gensim.models.keyedvectors.Vocab object at 0x7fc87f67d3d0>, 'chance': <gensim.models.keyedvectors.Vocab object at 0x7fc87f67d370>, 'touched': <gensim.models.keyedvectors.Vocab object at 0x7fc87f67d310>, 'troubled': <gensim.models.keyedvectors.Vocab object at 0x7fc87f67d2b0>, 'times': <gensim.models.keyedvectors.Vocab object at 0x7fc87f67d250>, 'cruel': <gensim.models.keyedvectors.Vocab object at 0x7fc87f67d1f0>, 'understood': <gensim.models.keyedvectors.Vocab object at 0x7fc87f67d190>, 'fire': <gensim.models.keyedvectors.Vocab object at 0x7fc87f67d130>, 'watched': <gensim.models.keyedvectors.Vocab object at 0x7fc87f67d0d0>, 'experience': <gensim.models.keyedvectors.Vocab object at 0x7fc87f67d070>, 'shot': <gensim.models.keyedvectors.Vocab object at 0x7fc87f67cfd0>, 'touch': <gensim.models.keyedvectors.Vocab object at 0x7fc87f67cf70>, 'rate': <gensim.models.keyedvectors.Vocab object at 0x7fc87f67cf10>, 'silence': <gensim.models.keyedvectors.Vocab object at 0x7fc87f67ceb0>, 'still': <gensim.models.keyedvectors.Vocab object at 0x7fc87f67ce50>, 'wanted': <gensim.models.keyedvectors.Vocab object at 0x7fc87f67cdf0>, 'bell': <gensim.models.keyedvectors.Vocab object at 0x7fc87f67cd90>, 'keep': <gensim.models.keyedvectors.Vocab object at 0x7fc87f67cd30>, 'wine': <gensim.models.keyedvectors.Vocab object at 0x7fc87f67ccd0>, 'senses': <gensim.models.keyedvectors.Vocab object at 0x7fc87f67cc70>, 'drew': <gensim.models.keyedvectors.Vocab object at 0x7fc87f67cc10>, 'fear': <gensim.models.keyedvectors.Vocab object at 0x7fc87f67cbb0>, 'left': <gensim.models.keyedvectors.Vocab object at 0x7fc87f67cb50>, 'frowned': <gensim.models.keyedvectors.Vocab object at 0x7fc87f67caf0>, 'altered': <gensim.models.keyedvectors.Vocab object at 0x7fc87f67ca90>, 'girl': <gensim.models.keyedvectors.Vocab object at 0x7fc87f67ca30>, 'become': <gensim.models.keyedvectors.Vocab object at 0x7fc87f67c9d0>, 'dark': <gensim.models.keyedvectors.Vocab object at 0x7fc87f67c970>, 'month': <gensim.models.keyedvectors.Vocab object at 0x7fc87f67c910>, 'common': <gensim.models.keyedvectors.Vocab object at 0x7fc87f67c8b0>, 'yellow': <gensim.models.keyedvectors.Vocab object at 0x7fc87f67c850>, 'purple': <gensim.models.keyedvectors.Vocab object at 0x7fc87f67c7f0>, 'night': <gensim.models.keyedvectors.Vocab object at 0x7fc87f67c790>, 'fell': <gensim.models.keyedvectors.Vocab object at 0x7fc87f67c730>, 'interest': <gensim.models.keyedvectors.Vocab object at 0x7fc87f67c6d0>, 'stained': <gensim.models.keyedvectors.Vocab object at 0x7fc87f67c670>, 'appeared': <gensim.models.keyedvectors.Vocab object at 0x7fc87f67c610>, 'waiting': <gensim.models.keyedvectors.Vocab object at 0x7fc87f67c5b0>, 'chair': <gensim.models.keyedvectors.Vocab object at 0x7fc87f67c550>, 'sound': <gensim.models.keyedvectors.Vocab object at 0x7fc87f67c4f0>, 'broke': <gensim.models.keyedvectors.Vocab object at 0x7fc87f67c490>, 'hour': <gensim.models.keyedvectors.Vocab object at 0x7fc87f67c430>, 'stopped': <gensim.models.keyedvectors.Vocab object at 0x7fc87f67c3d0>, 'finished': <gensim.models.keyedvectors.Vocab object at 0x7fc87f67c370>, 'shadow': <gensim.models.keyedvectors.Vocab object at 0x7fc87f67c310>, 'grace': <gensim.models.keyedvectors.Vocab object at 0x7fc87f67c2b0>, 'knife': <gensim.models.keyedvectors.Vocab object at 0x7fc87f67c250>, 'mist': <gensim.models.keyedvectors.Vocab object at 0x7fc87f67c1f0>, 'tears': <gensim.models.keyedvectors.Vocab object at 0x7fc87f67c190>, 'laid': <gensim.models.keyedvectors.Vocab object at 0x7fc87f67c130>, 'grow': <gensim.models.keyedvectors.Vocab object at 0x7fc87f67c0d0>, 'horrible': <gensim.models.keyedvectors.Vocab object at 0x7fc87f67c070>, 'happened': <gensim.models.keyedvectors.Vocab object at 0x7fc87f7eb070>, 'taught': <gensim.models.keyedvectors.Vocab object at 0x7fc87f7eb0d0>, 'kill': <gensim.models.keyedvectors.Vocab object at 0x7fc87f7eb130>, 'muttered': <gensim.models.keyedvectors.Vocab object at 0x7fc87f7eb190>, 'piece': <gensim.models.keyedvectors.Vocab object at 0x7fc87f7eb1f0>, 'table': <gensim.models.keyedvectors.Vocab object at 0x7fc87f7eb250>, 'murder': <gensim.models.keyedvectors.Vocab object at 0x7fc87f7eb2b0>, 'sent': <gensim.models.keyedvectors.Vocab object at 0x7fc87f7eb310>, 'tea': <gensim.models.keyedvectors.Vocab object at 0x7fc87f7eb370>, 'stage': <gensim.models.keyedvectors.Vocab object at 0x7fc87f7eb3d0>, 'extremely': <gensim.models.keyedvectors.Vocab object at 0x7fc87f7eb430>, 'morning': <gensim.models.keyedvectors.Vocab object at 0x7fc87f7eb490>, 'lived': <gensim.models.keyedvectors.Vocab object at 0x7fc87f7eb4f0>, 'small': <gensim.models.keyedvectors.Vocab object at 0x7fc87f7eb550>, 'shaped': <gensim.models.keyedvectors.Vocab object at 0x7fc87f7eb5b0>, 'theatre': <gensim.models.keyedvectors.Vocab object at 0x7fc87f7eb610>, 'ill': <gensim.models.keyedvectors.Vocab object at 0x7fc87f7eb670>, 'putting': <gensim.models.keyedvectors.Vocab object at 0x7fc87f7eb6d0>, 'dress': <gensim.models.keyedvectors.Vocab object at 0x7fc87f7eb730>, 'alone': <gensim.models.keyedvectors.Vocab object at 0x7fc87f7eb790>, 'sighed': <gensim.models.keyedvectors.Vocab object at 0x7fc87f7eb7f0>, 'morrow': <gensim.models.keyedvectors.Vocab object at 0x7fc87f7eb850>, 'interesting': <gensim.models.keyedvectors.Vocab object at 0x7fc87f7eb8b0>, 'closed': <gensim.models.keyedvectors.Vocab object at 0x7fc87f7eb910>, 'behind': <gensim.models.keyedvectors.Vocab object at 0x7fc87f7eb970>, 'uncle': <gensim.models.keyedvectors.Vocab object at 0x7fc87f7eb9d0>, 'somewhat': <gensim.models.keyedvectors.Vocab object at 0x7fc87f7eba30>, 'rough': <gensim.models.keyedvectors.Vocab object at 0x7fc87f7eba90>, 'called': <gensim.models.keyedvectors.Vocab object at 0x7fc87f7ebaf0>, 'father': <gensim.models.keyedvectors.Vocab object at 0x7fc87f7ebb50>, 'paris': <gensim.models.keyedvectors.Vocab object at 0x7fc87f7ebbb0>, 'son': <gensim.models.keyedvectors.Vocab object at 0x7fc87f7ebc10>, 'trouble': <gensim.models.keyedvectors.Vocab object at 0x7fc87f7ebc70>, 'valet': <gensim.models.keyedvectors.Vocab object at 0x7fc87f7ebcd0>, 'country': <gensim.models.keyedvectors.Vocab object at 0x7fc87f7ebd30>, 'early': <gensim.models.keyedvectors.Vocab object at 0x7fc87f7ebd90>, 'pure': <gensim.models.keyedvectors.Vocab object at 0x7fc87f7ebdf0>, 'assure': <gensim.models.keyedvectors.Vocab object at 0x7fc87f7ebe50>, 'george': <gensim.models.keyedvectors.Vocab object at 0x7fc87f7ebeb0>, 'money': <gensim.models.keyedvectors.Vocab object at 0x7fc87f7ebf10>, 'marry': <gensim.models.keyedvectors.Vocab object at 0x7fc87f7ebf70>, 'yesterday': <gensim.models.keyedvectors.Vocab object at 0x7fc87f7ebfd0>, 'killed': <gensim.models.keyedvectors.Vocab object at 0x7fc87f7ddfd0>, 'died': <gensim.models.keyedvectors.Vocab object at 0x7fc87f7ddf70>, 'selby': <gensim.models.keyedvectors.Vocab object at 0x7fc87f7ddf10>, 'hated': <gensim.models.keyedvectors.Vocab object at 0x7fc87f7ddeb0>, 'mad': <gensim.models.keyedvectors.Vocab object at 0x7fc87f7dde50>, 'pretty': <gensim.models.keyedvectors.Vocab object at 0x7fc87f7dddf0>, 'woman': <gensim.models.keyedvectors.Vocab object at 0x7fc87f7ddd90>, 'cut': <gensim.models.keyedvectors.Vocab object at 0x7fc87f7ddd30>, 'crime': <gensim.models.keyedvectors.Vocab object at 0x7fc87f7ddcd0>, 'child': <gensim.models.keyedvectors.Vocab object at 0x7fc87f7ddc70>, 'death': <gensim.models.keyedvectors.Vocab object at 0x7fc87f7ddc10>, 'dinner': <gensim.models.keyedvectors.Vocab object at 0x7fc87f7ddbb0>, 'playing': <gensim.models.keyedvectors.Vocab object at 0x7fc87f7ddb50>, 'already': <gensim.models.keyedvectors.Vocab object at 0x7fc87f7ddaf0>, 'hall': <gensim.models.keyedvectors.Vocab object at 0x7fc87f7dda90>, 'duchess': <gensim.models.keyedvectors.Vocab object at 0x7fc87f7dda30>, 'followed': <gensim.models.keyedvectors.Vocab object at 0x7fc87f7dd9d0>, 'thinking': <gensim.models.keyedvectors.Vocab object at 0x7fc87f7dd970>, 'erskine': <gensim.models.keyedvectors.Vocab object at 0x7fc87f7dd910>, 'mrs': <gensim.models.keyedvectors.Vocab object at 0x7fc87f7dd8b0>, 'whispered': <gensim.models.keyedvectors.Vocab object at 0x7fc87f7dd850>, 'grave': <gensim.models.keyedvectors.Vocab object at 0x7fc87f7dd7f0>, 'lead': <gensim.models.keyedvectors.Vocab object at 0x7fc87f7dd790>, 'future': <gensim.models.keyedvectors.Vocab object at 0x7fc87f7dd730>, 'ran': <gensim.models.keyedvectors.Vocab object at 0x7fc87f7dd6d0>, 'imagination': <gensim.models.keyedvectors.Vocab object at 0x7fc87f7dd670>, 'scene': <gensim.models.keyedvectors.Vocab object at 0x7fc87f7dd610>, 'lovely': <gensim.models.keyedvectors.Vocab object at 0x7fc87f7dd5b0>, 'library': <gensim.models.keyedvectors.Vocab object at 0x7fc87f7dd550>, 'sleep': <gensim.models.keyedvectors.Vocab object at 0x7fc87f7dd4f0>, 'park': <gensim.models.keyedvectors.Vocab object at 0x7fc87f7dd490>, 'lay': <gensim.models.keyedvectors.Vocab object at 0x7fc87f7dd430>, 'annoyed': <gensim.models.keyedvectors.Vocab object at 0x7fc87f7dd3d0>, 'opera': <gensim.models.keyedvectors.Vocab object at 0x7fc87f7dd370>, 'paper': <gensim.models.keyedvectors.Vocab object at 0x7fc87f7dd310>, 'lit': <gensim.models.keyedvectors.Vocab object at 0x7fc87f7dd2b0>, 'sibyl': <gensim.models.keyedvectors.Vocab object at 0x7fc87f7dd250>, 'vane': <gensim.models.keyedvectors.Vocab object at 0x7fc87f7dd1f0>, 'curiosity': <gensim.models.keyedvectors.Vocab object at 0x7fc87f7dd190>, 'seven': <gensim.models.keyedvectors.Vocab object at 0x7fc87f7dd130>, 'determined': <gensim.models.keyedvectors.Vocab object at 0x7fc87f7dd0d0>, 'eight': <gensim.models.keyedvectors.Vocab object at 0x7fc87f7dd070>, 'box': <gensim.models.keyedvectors.Vocab object at 0x7fc87f7d8070>, 'loved': <gensim.models.keyedvectors.Vocab object at 0x7fc87f7d80d0>, 'curtain': <gensim.models.keyedvectors.Vocab object at 0x7fc87f7d8130>, 'third': <gensim.models.keyedvectors.Vocab object at 0x7fc87f7d8190>, 'juliet': <gensim.models.keyedvectors.Vocab object at 0x7fc87f7d81f0>, 'act': <gensim.models.keyedvectors.Vocab object at 0x7fc87f7d8250>, 'drove': <gensim.models.keyedvectors.Vocab object at 0x7fc87f7d82b0>, 'tragedy': <gensim.models.keyedvectors.Vocab object at 0x7fc87f7d8310>, 'king': <gensim.models.keyedvectors.Vocab object at 0x7fc87f7d8370>, 'throat': <gensim.models.keyedvectors.Vocab object at 0x7fc87f7d83d0>, 'dead': <gensim.models.keyedvectors.Vocab object at 0x7fc87f7d8430>, 'elaborate': <gensim.models.keyedvectors.Vocab object at 0x7fc87f7d8490>, 'prince': <gensim.models.keyedvectors.Vocab object at 0x7fc87f7d84f0>, 'breath': <gensim.models.keyedvectors.Vocab object at 0x7fc87f7d8550>, 'worship': <gensim.models.keyedvectors.Vocab object at 0x7fc87f7d85b0>, 'crept': <gensim.models.keyedvectors.Vocab object at 0x7fc87f7d8610>, 'impossible': <gensim.models.keyedvectors.Vocab object at 0x7fc87f7d8670>, 'six': <gensim.models.keyedvectors.Vocab object at 0x7fc87f7d86d0>, 'week': <gensim.models.keyedvectors.Vocab object at 0x7fc87f7d8730>, 'waited': <gensim.models.keyedvectors.Vocab object at 0x7fc87f7d8790>, 'changed': <gensim.models.keyedvectors.Vocab object at 0x7fc87f7d87f0>, 'windows': <gensim.models.keyedvectors.Vocab object at 0x7fc87f7d8850>, 'acting': <gensim.models.keyedvectors.Vocab object at 0x7fc87f7d88b0>, 'james': <gensim.models.keyedvectors.Vocab object at 0x7fc87f7d8910>, 'blood': <gensim.models.keyedvectors.Vocab object at 0x7fc87f7d8970>, 'mouth': <gensim.models.keyedvectors.Vocab object at 0x7fc87f7d89d0>, 'arms': <gensim.models.keyedvectors.Vocab object at 0x7fc87f7d8a30>, 'kissed': <gensim.models.keyedvectors.Vocab object at 0x7fc87f7d8a90>, 'sister': <gensim.models.keyedvectors.Vocab object at 0x7fc87f7d8af0>, 'jim': <gensim.models.keyedvectors.Vocab object at 0x7fc87f7d8b50>, 'sigh': <gensim.models.keyedvectors.Vocab object at 0x7fc87f7d8bb0>, 'upstairs': <gensim.models.keyedvectors.Vocab object at 0x7fc87f7d8c10>, 'sailor': <gensim.models.keyedvectors.Vocab object at 0x7fc87f7d8c70>, 'horse': <gensim.models.keyedvectors.Vocab object at 0x7fc87f7d8cd0>, 'infinite': <gensim.models.keyedvectors.Vocab object at 0x7fc87f7d8d30>, 'reached': <gensim.models.keyedvectors.Vocab object at 0x7fc87f7d8d90>, 'hundred': <gensim.models.keyedvectors.Vocab object at 0x7fc87f7d8df0>, 'surely': <gensim.models.keyedvectors.Vocab object at 0x7fc87f7d8e50>, 'hung': <gensim.models.keyedvectors.Vocab object at 0x7fc87f7d8eb0>, 'horror': <gensim.models.keyedvectors.Vocab object at 0x7fc87f7d8f10>, 'thrust': <gensim.models.keyedvectors.Vocab object at 0x7fc87f7d8f70>, 'dressed': <gensim.models.keyedvectors.Vocab object at 0x7fc87f7d8fd0>, 'fine': <gensim.models.keyedvectors.Vocab object at 0x7fc87f7dbfd0>, 'top': <gensim.models.keyedvectors.Vocab object at 0x7fc87f7dbf70>, 'living': <gensim.models.keyedvectors.Vocab object at 0x7fc87f7dbf10>, 'floor': <gensim.models.keyedvectors.Vocab object at 0x7fc87f7dbeb0>, 'evil': <gensim.models.keyedvectors.Vocab object at 0x7fc87f7dbe50>, 'eye': <gensim.models.keyedvectors.Vocab object at 0x7fc87f7dbdf0>, 'cruelty': <gensim.models.keyedvectors.Vocab object at 0x7fc87f7dbd90>, 'threw': <gensim.models.keyedvectors.Vocab object at 0x7fc87f7dbd30>, 'sorrow': <gensim.models.keyedvectors.Vocab object at 0x7fc87f7dbcd0>, 'wrought': <gensim.models.keyedvectors.Vocab object at 0x7fc87f7dbc70>, 'screen': <gensim.models.keyedvectors.Vocab object at 0x7fc87f7dbc10>, 'embroidered': <gensim.models.keyedvectors.Vocab object at 0x7fc87f7dbbb0>, 'letter': <gensim.models.keyedvectors.Vocab object at 0x7fc87f7dbb50>, 'cry': <gensim.models.keyedvectors.Vocab object at 0x7fc87f7dbaf0>, 'murdered': <gensim.models.keyedvectors.Vocab object at 0x7fc87f7dba90>, 'key': <gensim.models.keyedvectors.Vocab object at 0x7fc87f7dba30>, 'prayer': <gensim.models.keyedvectors.Vocab object at 0x7fc87f7db9d0>, 'safe': <gensim.models.keyedvectors.Vocab object at 0x7fc87f7db970>, 'de': <gensim.models.keyedvectors.Vocab object at 0x7fc87f7db910>, 'adrian': <gensim.models.keyedvectors.Vocab object at 0x7fc87f7db8b0>, 'fatal': <gensim.models.keyedvectors.Vocab object at 0x7fc87f7db850>, 'lamp': <gensim.models.keyedvectors.Vocab object at 0x7fc87f7de0a0>, 'alan': <gensim.models.keyedvectors.Vocab object at 0x7fc87f7db7f0>, 'campbell': <gensim.models.keyedvectors.Vocab object at 0x7fc87f7db790>, 'narborough': <gensim.models.keyedvectors.Vocab object at 0x7fc87f7db730>, 'geoffrey': <gensim.models.keyedvectors.Vocab object at 0x7fc87f7db6d0>, 'gladys': <gensim.models.keyedvectors.Vocab object at 0x7fc87f7db670>}\n"
     ]
    }
   ],
   "source": [
    "vocabulary = word2vec.wv.vocab\n",
    "print(vocabulary)"
   ]
  },
  {
   "cell_type": "code",
   "execution_count": 62,
   "metadata": {},
   "outputs": [],
   "source": [
    "sim_words = word2vec.wv.most_similar('art')"
   ]
  },
  {
   "cell_type": "code",
   "execution_count": 63,
   "metadata": {},
   "outputs": [
    {
     "data": {
      "text/plain": [
       "[('life', 0.9998758435249329),\n",
       " ('us', 0.9998564124107361),\n",
       " ('one', 0.9998548626899719),\n",
       " ('sibyl', 0.9998517036437988),\n",
       " ('seemed', 0.9998502731323242),\n",
       " ('harry', 0.999849259853363),\n",
       " ('say', 0.9998444318771362),\n",
       " ('really', 0.99983811378479),\n",
       " ('things', 0.9998363852500916),\n",
       " ('like', 0.9998362064361572)]"
      ]
     },
     "execution_count": 63,
     "metadata": {},
     "output_type": "execute_result"
    }
   ],
   "source": [
    "sim_words"
   ]
  },
  {
   "cell_type": "code",
   "execution_count": 8,
   "metadata": {},
   "outputs": [
    {
     "name": "stdout",
     "output_type": "stream",
     "text": [
      "['The', 'artist', 'is', 'the', 'creator', 'of', 'beautiful', 'things.', 'To', 'reveal', 'art', 'and', 'conceal', 'the', 'artist', 'is', \"art's\", 'aim.', 'The', 'critic', 'is', 'he', 'who', 'can', 'translate', 'into', 'another', 'manner', 'or', 'a', 'new', 'material', 'his', 'impression', 'of', 'beautiful', 'things.', 'The', 'highest', 'as', 'the', 'lowest', 'form', 'of', 'criticism', 'is', 'a', 'mode', 'of', 'autobiography.', 'Those', 'who', 'find', 'ugly', 'meanings', 'in', 'beautiful', 'things', 'are', 'corrupt', 'without', 'being', 'charming.', 'This', 'is', 'a', 'fault.', 'Those', 'who', 'find', 'beautiful', 'meanings', 'in', 'beautiful', 'things', 'are', 'the', 'cultivated.', 'For', 'these', 'there', 'is', 'hope.', 'They', 'are', 'the', 'elect', 'to', 'whom', 'beautiful', 'things', 'mean', 'only', 'beauty.', 'There', 'is', 'no', 'such', 'thing', 'as']\n"
     ]
    }
   ],
   "source": [
    "words = text.split()\n",
    "print(words[:100])"
   ]
  },
  {
   "cell_type": "code",
   "execution_count": 5,
   "metadata": {},
   "outputs": [
    {
     "name": "stdout",
     "output_type": "stream",
     "text": [
      "!\"#$%&'()*+,-./:;<=>?@[\\]^_`{|}~\n"
     ]
    }
   ],
   "source": [
    "import string\n",
    "print(string.punctuation)"
   ]
  },
  {
   "cell_type": "code",
   "execution_count": 7,
   "metadata": {},
   "outputs": [
    {
     "name": "stdout",
     "output_type": "stream",
     "text": [
      "['The', 'artist', 'is', 'the', 'creator', 'of', 'beautiful', 'things', 'To', 'reveal', 'art', 'and', 'conceal', 'the', 'artist', 'is', 'arts', 'aim', 'The', 'critic', 'is', 'he', 'who', 'can', 'translate', 'into', 'another', 'manner', 'or', 'a', 'new', 'material', 'his', 'impression', 'of', 'beautiful', 'things', 'The', 'highest', 'as', 'the', 'lowest', 'form', 'of', 'criticism', 'is', 'a', 'mode', 'of', 'autobiography', 'Those', 'who', 'find', 'ugly', 'meanings', 'in', 'beautiful', 'things', 'are', 'corrupt', 'without', 'being', 'charming', 'This', 'is', 'a', 'fault', 'Those', 'who', 'find', 'beautiful', 'meanings', 'in', 'beautiful', 'things', 'are', 'the', 'cultivated', 'For', 'these', 'there', 'is', 'hope', 'They', 'are', 'the', 'elect', 'to', 'whom', 'beautiful', 'things', 'mean', 'only', 'beauty', 'There', 'is', 'no', 'such', 'thing', 'as']\n"
     ]
    }
   ],
   "source": [
    "table = str.maketrans(' ', ' ', string.punctuation)\n",
    "stripped = [w.translate(table) for w in words]\n",
    "print(stripped[:100])"
   ]
  },
  {
   "cell_type": "code",
   "execution_count": 8,
   "metadata": {},
   "outputs": [
    {
     "name": "stdout",
     "output_type": "stream",
     "text": [
      "showing info https://raw.githubusercontent.com/nltk/nltk_data/gh-pages/index.xml\n"
     ]
    },
    {
     "data": {
      "text/plain": [
       "True"
      ]
     },
     "execution_count": 8,
     "metadata": {},
     "output_type": "execute_result"
    }
   ],
   "source": [
    "import nltk\n",
    "nltk.download()"
   ]
  },
  {
   "cell_type": "code",
   "execution_count": 1,
   "metadata": {},
   "outputs": [],
   "source": [
    "from nltk.corpus import stopwords\n",
    "stop_words = stopwords.words('english')"
   ]
  },
  {
   "cell_type": "code",
   "execution_count": null,
   "metadata": {},
   "outputs": [],
   "source": []
  },
  {
   "cell_type": "code",
   "execution_count": 13,
   "metadata": {},
   "outputs": [
    {
     "name": "stdout",
     "output_type": "stream",
     "text": [
      "['The', 'artist', 'creator', 'beautiful', 'things', '', 'To', 'reveal', 'art', 'conceal', 'artist', 'art', 's', 'aim', '', 'The', 'critic', 'translate', 'another', 'manner', 'new', 'material', 'impression', 'beautiful', 'things', '', 'The', 'highest', 'lowest', 'form', 'criticism', 'mode', 'autobiography', '', 'Those', 'find', 'ugly', 'meanings', 'beautiful', 'things', 'corrupt', 'without', 'charming', '', 'This', 'fault', '', 'Those', 'find', 'beautiful', 'meanings', 'beautiful', 'things', 'cultivated', '', 'For', 'hope', '', 'They', 'elect', 'beautiful', 'things', 'mean', 'beauty', '', 'There', 'thing', 'moral', 'immoral', 'book', '', 'Books', 'well', 'written', '', 'badly', 'written', '', 'That', '', 'The', 'nineteenth', 'century', 'dislike', 'realism', 'rage', 'Caliban', 'seeing', 'face', 'glass', '', 'The', 'nineteenth', 'century', 'dislike', 'romanticism', 'rage', 'Caliban', 'seeing', 'face']\n"
     ]
    }
   ],
   "source": [
    "filename = 'dorian_gray.txt'\n",
    "file = open(filename, 'rt')\n",
    "text = file.read()\n",
    "file.close()\n",
    "\n",
    "#split into words\n",
    "from nltk import word_tokenize\n",
    "tokens = word_tokenize(text)\n",
    "\n",
    "#filter\n",
    "from nltk.corpus import stopwords\n",
    "stop_words = set(stopwords.words('english'))\n",
    "filter_text = [w for w in tokens if not w in stop_words]\n",
    "\n",
    "import string\n",
    "table = str.maketrans(' ', ' ', string.punctuation)\n",
    "stripped = [w.translate(table) for w in filter_text]\n",
    "print(stripped[:100])\n"
   ]
  },
  {
   "cell_type": "code",
   "execution_count": 16,
   "metadata": {},
   "outputs": [],
   "source": [
    "from sklearn.feature_extraction.text import CountVectorizer\n",
    "import nltk"
   ]
  },
  {
   "cell_type": "code",
   "execution_count": 18,
   "metadata": {},
   "outputs": [],
   "source": [
    "dorian_vec = CountVectorizer(min_df=2, tokenizer = nltk.word_tokenize, stop_words = 'english')\n",
    "x_counts = dorian_vec.fit_transform(stripped)"
   ]
  },
  {
   "cell_type": "code",
   "execution_count": 20,
   "metadata": {},
   "outputs": [],
   "source": [
    "X_binary = x_counts>0"
   ]
  },
  {
   "cell_type": "code",
   "execution_count": 22,
   "metadata": {},
   "outputs": [
    {
     "name": "stderr",
     "output_type": "stream",
     "text": [
      "[nltk_data] Downloading package vader_lexicon to\n",
      "[nltk_data]     /Users/jessicashea/nltk_data...\n",
      "[nltk_data]   Package vader_lexicon is already up-to-date!\n"
     ]
    },
    {
     "data": {
      "text/plain": [
       "True"
      ]
     },
     "execution_count": 22,
     "metadata": {},
     "output_type": "execute_result"
    }
   ],
   "source": [
    "import nltk\n",
    "nltk.download('vader_lexicon')"
   ]
  },
  {
   "cell_type": "code",
   "execution_count": 23,
   "metadata": {},
   "outputs": [],
   "source": [
    "from nltk.sentiment.vader import SentimentIntensityAnalyzer\n",
    "sid = SentimentIntensityAnalyzer()"
   ]
  },
  {
   "cell_type": "code",
   "execution_count": 24,
   "metadata": {},
   "outputs": [
    {
     "ename": "AttributeError",
     "evalue": "'list' object has no attribute 'encode'",
     "output_type": "error",
     "traceback": [
      "\u001b[0;31m---------------------------------------------------------------------------\u001b[0m",
      "\u001b[0;31mAttributeError\u001b[0m                            Traceback (most recent call last)",
      "\u001b[0;32m<ipython-input-24-f3843f78add4>\u001b[0m in \u001b[0;36m<module>\u001b[0;34m\u001b[0m\n\u001b[0;32m----> 1\u001b[0;31m \u001b[0mwell\u001b[0m \u001b[0;34m=\u001b[0m \u001b[0msid\u001b[0m\u001b[0;34m.\u001b[0m\u001b[0mpolarity_scores\u001b[0m\u001b[0;34m(\u001b[0m\u001b[0mstripped\u001b[0m\u001b[0;34m)\u001b[0m\u001b[0;34m\u001b[0m\u001b[0;34m\u001b[0m\u001b[0m\n\u001b[0m",
      "\u001b[0;32m~/opt/anaconda3/lib/python3.8/site-packages/nltk/sentiment/vader.py\u001b[0m in \u001b[0;36mpolarity_scores\u001b[0;34m(self, text)\u001b[0m\n\u001b[1;32m    358\u001b[0m         \"\"\"\n\u001b[1;32m    359\u001b[0m         \u001b[0;31m# text, words_and_emoticons, is_cap_diff = self.preprocess(text)\u001b[0m\u001b[0;34m\u001b[0m\u001b[0;34m\u001b[0m\u001b[0;34m\u001b[0m\u001b[0m\n\u001b[0;32m--> 360\u001b[0;31m         sentitext = SentiText(text, self.constants.PUNC_LIST,\n\u001b[0m\u001b[1;32m    361\u001b[0m                               self.constants.REGEX_REMOVE_PUNCTUATION)\n\u001b[1;32m    362\u001b[0m         \u001b[0msentiments\u001b[0m \u001b[0;34m=\u001b[0m \u001b[0;34m[\u001b[0m\u001b[0;34m]\u001b[0m\u001b[0;34m\u001b[0m\u001b[0;34m\u001b[0m\u001b[0m\n",
      "\u001b[0;32m~/opt/anaconda3/lib/python3.8/site-packages/nltk/sentiment/vader.py\u001b[0m in \u001b[0;36m__init__\u001b[0;34m(self, text, punc_list, regex_remove_punctuation)\u001b[0m\n\u001b[1;32m    268\u001b[0m     \u001b[0;32mdef\u001b[0m \u001b[0m__init__\u001b[0m\u001b[0;34m(\u001b[0m\u001b[0mself\u001b[0m\u001b[0;34m,\u001b[0m \u001b[0mtext\u001b[0m\u001b[0;34m,\u001b[0m \u001b[0mpunc_list\u001b[0m\u001b[0;34m,\u001b[0m \u001b[0mregex_remove_punctuation\u001b[0m\u001b[0;34m)\u001b[0m\u001b[0;34m:\u001b[0m\u001b[0;34m\u001b[0m\u001b[0;34m\u001b[0m\u001b[0m\n\u001b[1;32m    269\u001b[0m         \u001b[0;32mif\u001b[0m \u001b[0;32mnot\u001b[0m \u001b[0misinstance\u001b[0m\u001b[0;34m(\u001b[0m\u001b[0mtext\u001b[0m\u001b[0;34m,\u001b[0m \u001b[0mstr\u001b[0m\u001b[0;34m)\u001b[0m\u001b[0;34m:\u001b[0m\u001b[0;34m\u001b[0m\u001b[0;34m\u001b[0m\u001b[0m\n\u001b[0;32m--> 270\u001b[0;31m             \u001b[0mtext\u001b[0m \u001b[0;34m=\u001b[0m \u001b[0mstr\u001b[0m\u001b[0;34m(\u001b[0m\u001b[0mtext\u001b[0m\u001b[0;34m.\u001b[0m\u001b[0mencode\u001b[0m\u001b[0;34m(\u001b[0m\u001b[0;34m\"utf-8\"\u001b[0m\u001b[0;34m)\u001b[0m\u001b[0;34m)\u001b[0m\u001b[0;34m\u001b[0m\u001b[0;34m\u001b[0m\u001b[0m\n\u001b[0m\u001b[1;32m    271\u001b[0m         \u001b[0mself\u001b[0m\u001b[0;34m.\u001b[0m\u001b[0mtext\u001b[0m \u001b[0;34m=\u001b[0m \u001b[0mtext\u001b[0m\u001b[0;34m\u001b[0m\u001b[0;34m\u001b[0m\u001b[0m\n\u001b[1;32m    272\u001b[0m         \u001b[0mself\u001b[0m\u001b[0;34m.\u001b[0m\u001b[0mPUNC_LIST\u001b[0m \u001b[0;34m=\u001b[0m \u001b[0mpunc_list\u001b[0m\u001b[0;34m\u001b[0m\u001b[0;34m\u001b[0m\u001b[0m\n",
      "\u001b[0;31mAttributeError\u001b[0m: 'list' object has no attribute 'encode'"
     ]
    }
   ],
   "source": [
    "well = sid.polarity_scores(stripped)"
   ]
  },
  {
   "cell_type": "code",
   "execution_count": 21,
   "metadata": {},
   "outputs": [],
   "source": [
    "from sklearn.naive_bayes import MultinomialNB\n",
    "from sklearn.naive_bayes import BernoulliNB"
   ]
  },
  {
   "cell_type": "code",
   "execution_count": null,
   "metadata": {},
   "outputs": [],
   "source": [
    "stripped"
   ]
  }
 ],
 "metadata": {
  "kernelspec": {
   "display_name": "Python 3",
   "language": "python",
   "name": "python3"
  },
  "language_info": {
   "codemirror_mode": {
    "name": "ipython",
    "version": 3
   },
   "file_extension": ".py",
   "mimetype": "text/x-python",
   "name": "python",
   "nbconvert_exporter": "python",
   "pygments_lexer": "ipython3",
   "version": "3.8.3"
  }
 },
 "nbformat": 4,
 "nbformat_minor": 4
}
